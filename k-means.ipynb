{
 "cells": [
  {
   "cell_type": "code",
   "execution_count": 7,
   "metadata": {},
   "outputs": [
    {
     "name": "stdout",
     "output_type": "stream",
     "text": [
      "(18, 26)\n",
      "3    124\n",
      "4    115\n",
      "5    103\n",
      "1     56\n",
      "2     52\n",
      "dtype: int64\n",
      "Hacker  A  ET  Emily  HakcerDude48  Kurt Goerg  MarekS  Mr. Titor  SemperHack  \\\n",
      "row_0                                                                           \n",
      "0       0   1      0             0           0       0          0           0   \n",
      "1       1   0      0             1           0       1          1           1   \n",
      "2       0   0      1             0           1       0          0           0   \n",
      "\n",
      "Hacker  Suri  ac9kf  allo!  bpl4vv  jl8wf  karen  keks  lili  mmirza  temp  \n",
      "row_0                                                                       \n",
      "0          0      1      0       0      1      1     0     0       0     0  \n",
      "1          1      0      1       0      0      0     0     1       0     0  \n",
      "2          0      0      0       1      0      0     1     0       1     1  \n"
     ]
    },
    {
     "data": {
      "image/png": "[encoded data removed]",
      "text/plain": [
       "<Figure size 432x288 with 1 Axes>"
      ]
     },
     "metadata": {
      "needs_background": "light"
     },
     "output_type": "display_data"
    }
   ],
   "source": [
    "# -*- coding: utf-8 -*-\n",
    "\n",
    "#Created on Thu Oct  1 21:07:37 2020\n",
    "\n",
    "#@author: Kaot\n",
    "# adapted from \"https://www.dataquest.io/blog/k-means-clustering-us-senators/\"\"\n",
    "\n",
    "import pandas as pd\n",
    "# Read in the csv file\n",
    "survey =pd.read_csv('data//survey.csv')\n",
    "\n",
    "\n",
    "print(survey.shape)\n",
    "print(pd.value_counts(survey.iloc[:,1:].values.ravel()))\n",
    "\n",
    "# The kmeans algorithm is implemented in the scikits-learn library\n",
    "from sklearn.cluster import KMeans\n",
    "\n",
    "# Create a kmeans model on our data, using 3 clusters. random_state helps ensure that the algorithm returns the same results each time.\n",
    "kmeans_model = KMeans(n_clusters=3, random_state=1).fit(survey.iloc[:, 1:])\n",
    "\n",
    "# These are our fitted labels for clusters -- the first cluster has label 0, and the second has label 1, third cluster label 2.\n",
    "\n",
    "labels = kmeans_model.labels_\n",
    "pd.set_option('display.max_columns', None)\n",
    "\n",
    "print(pd.crosstab(labels, survey[\"Hacker\"]))\n",
    "\n",
    "# plot and shade them by their K-means cluster.\n",
    "\n",
    "import matplotlib.pyplot as plt\n",
    "from sklearn.decomposition import PCA\n",
    "pca_2 = PCA(2)\n",
    "\n",
    "# Turn the data into two columns with Principal Components Analysis (PCA)\n",
    "plot_columns = pca_2.fit_transform(survey.iloc[:,1:])\n",
    "\n",
    "pcaX=plot_columns[:,0]\n",
    "pcaY=plot_columns[:,1]\n",
    "name=survey.iloc[:,0]\n",
    "\n",
    "fig, ax = plt.subplots()\n",
    "ax.scatter(pcaX, pcaY,c=labels,s=100)\n",
    "\n",
    "#add annotations\n",
    "\n",
    "for i, txt in enumerate(name):\n",
    "    ax.annotate(txt, (pcaX[i], pcaY[i]))\n",
    "\n",
    "# Plot based on the two dimensions, and shade by cluster label\n",
    "# You can see the plot by clicking \"plots\" to the bottom right\n",
    "plt.scatter(x=plot_columns[:,0], y=plot_columns[:,1], c=labels)\n",
    "\n",
    "\n",
    " \n",
    "\n",
    "plt.show()\n",
    "\n",
    "\n"
   ]
  },
  {
   "cell_type": "code",
   "execution_count": 6,
   "metadata": {},
   "outputs": [],
   "source": [
    "plt.show()"
   ]
  },
  {
   "cell_type": "code",
   "execution_count": null,
   "metadata": {},
   "outputs": [],
   "source": []
  }
 ],
 "metadata": {
  "kernelspec": {
   "display_name": "Python 3",
   "language": "python",
   "name": "python3"
  },
  "language_info": {
   "codemirror_mode": {
    "name": "ipython",
    "version": 3
   },
   "file_extension": ".py",
   "mimetype": "text/x-python",
   "name": "python",
   "nbconvert_exporter": "python",
   "pygments_lexer": "ipython3",
   "version": "3.7.0"
  }
 },
 "nbformat": 4,
 "nbformat_minor": 2
}
